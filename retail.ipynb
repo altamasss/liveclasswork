{
  "nbformat": 4,
  "nbformat_minor": 0,
  "metadata": {
    "colab": {
      "provenance": [],
      "gpuType": "T4"
    },
    "kernelspec": {
      "name": "python3",
      "display_name": "Python 3"
    },
    "language_info": {
      "name": "python"
    },
    "accelerator": "GPU"
  },
  "cells": [
    {
      "cell_type": "markdown",
      "source": [
        "# Prepared By - Altamas Khokhar"
      ],
      "metadata": {
        "id": "2ks1XQm8bibo"
      }
    },
    {
      "cell_type": "code",
      "execution_count": 1,
      "metadata": {
        "id": "VnRrwlE35jcP"
      },
      "outputs": [],
      "source": [
        "import pandas as pd\n"
      ]
    },
    {
      "cell_type": "code",
      "source": [
        "df1 = pd.read_csv('/content/drive/MyDrive/Retail/Copy of data_2018.csv')\n",
        "df2 = pd.read_csv('/content/drive/MyDrive/Retail/Copy of data_2019.csv')\n",
        "df3 = pd.read_csv('/content/drive/MyDrive/Retail/Copy of data_2020.csv')\n",
        "df4 = pd.read_csv('/content/drive/MyDrive/Retail/Copy of data_2021.csv')\n",
        "df5 = pd.read_csv('/content/drive/MyDrive/Retail/Copy of data_2022.csv')\n"
      ],
      "metadata": {
        "id": "928BefNQ6K-N"
      },
      "execution_count": 2,
      "outputs": []
    },
    {
      "cell_type": "code",
      "source": [
        "df = pd.concat([df1, df2, df3, df4, df5], ignore_index=True)\n"
      ],
      "metadata": {
        "id": "uSLZTwgz6r4Y"
      },
      "execution_count": 3,
      "outputs": []
    },
    {
      "cell_type": "code",
      "source": [
        "original_columns = df.columns.tolist()"
      ],
      "metadata": {
        "id": "UUR6cTWoBAwK"
      },
      "execution_count": 4,
      "outputs": []
    },
    {
      "cell_type": "code",
      "source": [
        "new_columns = ['user_id', 'bill_id', 'line_item_amount', 'bill_discount', 'transaction_date', 'description', 'inventory_category', 'colour', 'size', 'zone_name', 'store_name', 'year']"
      ],
      "metadata": {
        "id": "SRuRmoEyBJIK"
      },
      "execution_count": 5,
      "outputs": []
    },
    {
      "cell_type": "code",
      "source": [
        "df.columns = new_columns"
      ],
      "metadata": {
        "id": "8dFDV818B5lf"
      },
      "execution_count": 6,
      "outputs": []
    },
    {
      "cell_type": "code",
      "source": [
        "df.head()\n"
      ],
      "metadata": {
        "colab": {
          "base_uri": "https://localhost:8080/",
          "height": 310
        },
        "id": "4PEgRnH56vxw",
        "outputId": "7b9df0ef-2471-4342-dba4-4ed98bbee701"
      },
      "execution_count": 7,
      "outputs": [
        {
          "output_type": "execute_result",
          "data": {
            "text/plain": [
              "     user_id    bill_id  line_item_amount  bill_discount transaction_date  \\\n",
              "0  403252497  401641461            1049.5            0.0       2018-08-11   \n",
              "1  357000026  397716483             659.4            0.0       2018-07-22   \n",
              "2  372773935  362298787            1899.0            0.0       2018-01-12   \n",
              "3  362714910  360637282            1799.0            0.0       2018-01-03   \n",
              "4  393891557  374396867            1299.0            0.0       2018-03-29   \n",
              "\n",
              "                                         description  \\\n",
              "0  TR ITA14TRK010 FF BROOKLYN STRAIGHT Beige 44 /...   \n",
              "1            MB ITA14BLT016 35MM NA Olive Green 32 /   \n",
              "2              TR S15-NELSON FF KANSAS Tan 36 / 92CM   \n",
              "3           TR S15-BRANDON FF KANSAS Khaki 32 / 82CM   \n",
              "4    MB ITA15BLT004 40MM NA Reddish Brown 38 / 112CM   \n",
              "\n",
              "                             inventory_category         colour        size  \\\n",
              "0                                       TROUSER          Beige  44 / 112CM   \n",
              "1  MB ITA14BLT016 35MM NA Olive Green 32 - 97CM    OLIVE GREEN   32 / 97CM   \n",
              "2                                       TROUSER            Tan   36 / 92CM   \n",
              "3                                       TROUSER          Khaki   32 / 82CM   \n",
              "4                              ITA15BLT004-40MM  REDDISH BROWN  38 / 112CM   \n",
              "\n",
              "  zone_name  store_name  year  \n",
              "0      East   East_7096  2018  \n",
              "1     North  North_7018  2018  \n",
              "2     North  North_6505  2018  \n",
              "3     North  North_6505  2018  \n",
              "4      East   East_7310  2018  "
            ],
            "text/html": [
              "\n",
              "  <div id=\"df-546eeb3a-7360-4658-a5a2-055781b612d1\" class=\"colab-df-container\">\n",
              "    <div>\n",
              "<style scoped>\n",
              "    .dataframe tbody tr th:only-of-type {\n",
              "        vertical-align: middle;\n",
              "    }\n",
              "\n",
              "    .dataframe tbody tr th {\n",
              "        vertical-align: top;\n",
              "    }\n",
              "\n",
              "    .dataframe thead th {\n",
              "        text-align: right;\n",
              "    }\n",
              "</style>\n",
              "<table border=\"1\" class=\"dataframe\">\n",
              "  <thead>\n",
              "    <tr style=\"text-align: right;\">\n",
              "      <th></th>\n",
              "      <th>user_id</th>\n",
              "      <th>bill_id</th>\n",
              "      <th>line_item_amount</th>\n",
              "      <th>bill_discount</th>\n",
              "      <th>transaction_date</th>\n",
              "      <th>description</th>\n",
              "      <th>inventory_category</th>\n",
              "      <th>colour</th>\n",
              "      <th>size</th>\n",
              "      <th>zone_name</th>\n",
              "      <th>store_name</th>\n",
              "      <th>year</th>\n",
              "    </tr>\n",
              "  </thead>\n",
              "  <tbody>\n",
              "    <tr>\n",
              "      <th>0</th>\n",
              "      <td>403252497</td>\n",
              "      <td>401641461</td>\n",
              "      <td>1049.5</td>\n",
              "      <td>0.0</td>\n",
              "      <td>2018-08-11</td>\n",
              "      <td>TR ITA14TRK010 FF BROOKLYN STRAIGHT Beige 44 /...</td>\n",
              "      <td>TROUSER</td>\n",
              "      <td>Beige</td>\n",
              "      <td>44 / 112CM</td>\n",
              "      <td>East</td>\n",
              "      <td>East_7096</td>\n",
              "      <td>2018</td>\n",
              "    </tr>\n",
              "    <tr>\n",
              "      <th>1</th>\n",
              "      <td>357000026</td>\n",
              "      <td>397716483</td>\n",
              "      <td>659.4</td>\n",
              "      <td>0.0</td>\n",
              "      <td>2018-07-22</td>\n",
              "      <td>MB ITA14BLT016 35MM NA Olive Green 32 /</td>\n",
              "      <td>MB ITA14BLT016 35MM NA Olive Green 32 - 97CM</td>\n",
              "      <td>OLIVE GREEN</td>\n",
              "      <td>32 / 97CM</td>\n",
              "      <td>North</td>\n",
              "      <td>North_7018</td>\n",
              "      <td>2018</td>\n",
              "    </tr>\n",
              "    <tr>\n",
              "      <th>2</th>\n",
              "      <td>372773935</td>\n",
              "      <td>362298787</td>\n",
              "      <td>1899.0</td>\n",
              "      <td>0.0</td>\n",
              "      <td>2018-01-12</td>\n",
              "      <td>TR S15-NELSON FF KANSAS Tan 36 / 92CM</td>\n",
              "      <td>TROUSER</td>\n",
              "      <td>Tan</td>\n",
              "      <td>36 / 92CM</td>\n",
              "      <td>North</td>\n",
              "      <td>North_6505</td>\n",
              "      <td>2018</td>\n",
              "    </tr>\n",
              "    <tr>\n",
              "      <th>3</th>\n",
              "      <td>362714910</td>\n",
              "      <td>360637282</td>\n",
              "      <td>1799.0</td>\n",
              "      <td>0.0</td>\n",
              "      <td>2018-01-03</td>\n",
              "      <td>TR S15-BRANDON FF KANSAS Khaki 32 / 82CM</td>\n",
              "      <td>TROUSER</td>\n",
              "      <td>Khaki</td>\n",
              "      <td>32 / 82CM</td>\n",
              "      <td>North</td>\n",
              "      <td>North_6505</td>\n",
              "      <td>2018</td>\n",
              "    </tr>\n",
              "    <tr>\n",
              "      <th>4</th>\n",
              "      <td>393891557</td>\n",
              "      <td>374396867</td>\n",
              "      <td>1299.0</td>\n",
              "      <td>0.0</td>\n",
              "      <td>2018-03-29</td>\n",
              "      <td>MB ITA15BLT004 40MM NA Reddish Brown 38 / 112CM</td>\n",
              "      <td>ITA15BLT004-40MM</td>\n",
              "      <td>REDDISH BROWN</td>\n",
              "      <td>38 / 112CM</td>\n",
              "      <td>East</td>\n",
              "      <td>East_7310</td>\n",
              "      <td>2018</td>\n",
              "    </tr>\n",
              "  </tbody>\n",
              "</table>\n",
              "</div>\n",
              "    <div class=\"colab-df-buttons\">\n",
              "\n",
              "  <div class=\"colab-df-container\">\n",
              "    <button class=\"colab-df-convert\" onclick=\"convertToInteractive('df-546eeb3a-7360-4658-a5a2-055781b612d1')\"\n",
              "            title=\"Convert this dataframe to an interactive table.\"\n",
              "            style=\"display:none;\">\n",
              "\n",
              "  <svg xmlns=\"http://www.w3.org/2000/svg\" height=\"24px\" viewBox=\"0 -960 960 960\">\n",
              "    <path d=\"M120-120v-720h720v720H120Zm60-500h600v-160H180v160Zm220 220h160v-160H400v160Zm0 220h160v-160H400v160ZM180-400h160v-160H180v160Zm440 0h160v-160H620v160ZM180-180h160v-160H180v160Zm440 0h160v-160H620v160Z\"/>\n",
              "  </svg>\n",
              "    </button>\n",
              "\n",
              "  <style>\n",
              "    .colab-df-container {\n",
              "      display:flex;\n",
              "      gap: 12px;\n",
              "    }\n",
              "\n",
              "    .colab-df-convert {\n",
              "      background-color: #E8F0FE;\n",
              "      border: none;\n",
              "      border-radius: 50%;\n",
              "      cursor: pointer;\n",
              "      display: none;\n",
              "      fill: #1967D2;\n",
              "      height: 32px;\n",
              "      padding: 0 0 0 0;\n",
              "      width: 32px;\n",
              "    }\n",
              "\n",
              "    .colab-df-convert:hover {\n",
              "      background-color: #E2EBFA;\n",
              "      box-shadow: 0px 1px 2px rgba(60, 64, 67, 0.3), 0px 1px 3px 1px rgba(60, 64, 67, 0.15);\n",
              "      fill: #174EA6;\n",
              "    }\n",
              "\n",
              "    .colab-df-buttons div {\n",
              "      margin-bottom: 4px;\n",
              "    }\n",
              "\n",
              "    [theme=dark] .colab-df-convert {\n",
              "      background-color: #3B4455;\n",
              "      fill: #D2E3FC;\n",
              "    }\n",
              "\n",
              "    [theme=dark] .colab-df-convert:hover {\n",
              "      background-color: #434B5C;\n",
              "      box-shadow: 0px 1px 3px 1px rgba(0, 0, 0, 0.15);\n",
              "      filter: drop-shadow(0px 1px 2px rgba(0, 0, 0, 0.3));\n",
              "      fill: #FFFFFF;\n",
              "    }\n",
              "  </style>\n",
              "\n",
              "    <script>\n",
              "      const buttonEl =\n",
              "        document.querySelector('#df-546eeb3a-7360-4658-a5a2-055781b612d1 button.colab-df-convert');\n",
              "      buttonEl.style.display =\n",
              "        google.colab.kernel.accessAllowed ? 'block' : 'none';\n",
              "\n",
              "      async function convertToInteractive(key) {\n",
              "        const element = document.querySelector('#df-546eeb3a-7360-4658-a5a2-055781b612d1');\n",
              "        const dataTable =\n",
              "          await google.colab.kernel.invokeFunction('convertToInteractive',\n",
              "                                                    [key], {});\n",
              "        if (!dataTable) return;\n",
              "\n",
              "        const docLinkHtml = 'Like what you see? Visit the ' +\n",
              "          '<a target=\"_blank\" href=https://colab.research.google.com/notebooks/data_table.ipynb>data table notebook</a>'\n",
              "          + ' to learn more about interactive tables.';\n",
              "        element.innerHTML = '';\n",
              "        dataTable['output_type'] = 'display_data';\n",
              "        await google.colab.output.renderOutput(dataTable, element);\n",
              "        const docLink = document.createElement('div');\n",
              "        docLink.innerHTML = docLinkHtml;\n",
              "        element.appendChild(docLink);\n",
              "      }\n",
              "    </script>\n",
              "  </div>\n",
              "\n",
              "\n",
              "<div id=\"df-0cc4ec21-11c0-4c11-8e53-ee0b978f3fdf\">\n",
              "  <button class=\"colab-df-quickchart\" onclick=\"quickchart('df-0cc4ec21-11c0-4c11-8e53-ee0b978f3fdf')\"\n",
              "            title=\"Suggest charts.\"\n",
              "            style=\"display:none;\">\n",
              "\n",
              "<svg xmlns=\"http://www.w3.org/2000/svg\" height=\"24px\"viewBox=\"0 0 24 24\"\n",
              "     width=\"24px\">\n",
              "    <g>\n",
              "        <path d=\"M19 3H5c-1.1 0-2 .9-2 2v14c0 1.1.9 2 2 2h14c1.1 0 2-.9 2-2V5c0-1.1-.9-2-2-2zM9 17H7v-7h2v7zm4 0h-2V7h2v10zm4 0h-2v-4h2v4z\"/>\n",
              "    </g>\n",
              "</svg>\n",
              "  </button>\n",
              "\n",
              "<style>\n",
              "  .colab-df-quickchart {\n",
              "      --bg-color: #E8F0FE;\n",
              "      --fill-color: #1967D2;\n",
              "      --hover-bg-color: #E2EBFA;\n",
              "      --hover-fill-color: #174EA6;\n",
              "      --disabled-fill-color: #AAA;\n",
              "      --disabled-bg-color: #DDD;\n",
              "  }\n",
              "\n",
              "  [theme=dark] .colab-df-quickchart {\n",
              "      --bg-color: #3B4455;\n",
              "      --fill-color: #D2E3FC;\n",
              "      --hover-bg-color: #434B5C;\n",
              "      --hover-fill-color: #FFFFFF;\n",
              "      --disabled-bg-color: #3B4455;\n",
              "      --disabled-fill-color: #666;\n",
              "  }\n",
              "\n",
              "  .colab-df-quickchart {\n",
              "    background-color: var(--bg-color);\n",
              "    border: none;\n",
              "    border-radius: 50%;\n",
              "    cursor: pointer;\n",
              "    display: none;\n",
              "    fill: var(--fill-color);\n",
              "    height: 32px;\n",
              "    padding: 0;\n",
              "    width: 32px;\n",
              "  }\n",
              "\n",
              "  .colab-df-quickchart:hover {\n",
              "    background-color: var(--hover-bg-color);\n",
              "    box-shadow: 0 1px 2px rgba(60, 64, 67, 0.3), 0 1px 3px 1px rgba(60, 64, 67, 0.15);\n",
              "    fill: var(--button-hover-fill-color);\n",
              "  }\n",
              "\n",
              "  .colab-df-quickchart-complete:disabled,\n",
              "  .colab-df-quickchart-complete:disabled:hover {\n",
              "    background-color: var(--disabled-bg-color);\n",
              "    fill: var(--disabled-fill-color);\n",
              "    box-shadow: none;\n",
              "  }\n",
              "\n",
              "  .colab-df-spinner {\n",
              "    border: 2px solid var(--fill-color);\n",
              "    border-color: transparent;\n",
              "    border-bottom-color: var(--fill-color);\n",
              "    animation:\n",
              "      spin 1s steps(1) infinite;\n",
              "  }\n",
              "\n",
              "  @keyframes spin {\n",
              "    0% {\n",
              "      border-color: transparent;\n",
              "      border-bottom-color: var(--fill-color);\n",
              "      border-left-color: var(--fill-color);\n",
              "    }\n",
              "    20% {\n",
              "      border-color: transparent;\n",
              "      border-left-color: var(--fill-color);\n",
              "      border-top-color: var(--fill-color);\n",
              "    }\n",
              "    30% {\n",
              "      border-color: transparent;\n",
              "      border-left-color: var(--fill-color);\n",
              "      border-top-color: var(--fill-color);\n",
              "      border-right-color: var(--fill-color);\n",
              "    }\n",
              "    40% {\n",
              "      border-color: transparent;\n",
              "      border-right-color: var(--fill-color);\n",
              "      border-top-color: var(--fill-color);\n",
              "    }\n",
              "    60% {\n",
              "      border-color: transparent;\n",
              "      border-right-color: var(--fill-color);\n",
              "    }\n",
              "    80% {\n",
              "      border-color: transparent;\n",
              "      border-right-color: var(--fill-color);\n",
              "      border-bottom-color: var(--fill-color);\n",
              "    }\n",
              "    90% {\n",
              "      border-color: transparent;\n",
              "      border-bottom-color: var(--fill-color);\n",
              "    }\n",
              "  }\n",
              "</style>\n",
              "\n",
              "  <script>\n",
              "    async function quickchart(key) {\n",
              "      const quickchartButtonEl =\n",
              "        document.querySelector('#' + key + ' button');\n",
              "      quickchartButtonEl.disabled = true;  // To prevent multiple clicks.\n",
              "      quickchartButtonEl.classList.add('colab-df-spinner');\n",
              "      try {\n",
              "        const charts = await google.colab.kernel.invokeFunction(\n",
              "            'suggestCharts', [key], {});\n",
              "      } catch (error) {\n",
              "        console.error('Error during call to suggestCharts:', error);\n",
              "      }\n",
              "      quickchartButtonEl.classList.remove('colab-df-spinner');\n",
              "      quickchartButtonEl.classList.add('colab-df-quickchart-complete');\n",
              "    }\n",
              "    (() => {\n",
              "      let quickchartButtonEl =\n",
              "        document.querySelector('#df-0cc4ec21-11c0-4c11-8e53-ee0b978f3fdf button');\n",
              "      quickchartButtonEl.style.display =\n",
              "        google.colab.kernel.accessAllowed ? 'block' : 'none';\n",
              "    })();\n",
              "  </script>\n",
              "</div>\n",
              "    </div>\n",
              "  </div>\n"
            ]
          },
          "metadata": {},
          "execution_count": 7
        }
      ]
    },
    {
      "cell_type": "code",
      "source": [
        "print('training_data duplicated:{}'.format(df.duplicated().sum()))\n",
        "\n",
        "# to many duplicate data"
      ],
      "metadata": {
        "colab": {
          "base_uri": "https://localhost:8080/"
        },
        "id": "z4boREmy7Rbi",
        "outputId": "15911f86-963c-40a7-d0ad-5ee36e93887f"
      },
      "execution_count": 8,
      "outputs": [
        {
          "output_type": "stream",
          "name": "stdout",
          "text": [
            "training_data duplicated:1898076\n"
          ]
        }
      ]
    },
    {
      "cell_type": "code",
      "source": [
        "tab_info = pd.DataFrame(df.dtypes).T.rename(index={0:'column Type'})\n",
        "tab_info = tab_info.append(pd.DataFrame(df.isnull().sum()).T.rename(index={0:'null values (nb)'}))\n",
        "tab_info = tab_info.append(pd.DataFrame(df.isnull().sum()/df.shape[0]*100).T.\n",
        "                                       rename(index={0: 'null values (%)'}))\n",
        "tab_info"
      ],
      "metadata": {
        "colab": {
          "base_uri": "https://localhost:8080/",
          "height": 213
        },
        "id": "hk7GFVi48M84",
        "outputId": "71dc091e-6220-463f-843f-ce071f9ab9c2"
      },
      "execution_count": 9,
      "outputs": [
        {
          "output_type": "stream",
          "name": "stderr",
          "text": [
            "<ipython-input-9-4002d036c92c>:2: FutureWarning: The frame.append method is deprecated and will be removed from pandas in a future version. Use pandas.concat instead.\n",
            "  tab_info = tab_info.append(pd.DataFrame(df.isnull().sum()).T.rename(index={0:'null values (nb)'}))\n",
            "<ipython-input-9-4002d036c92c>:3: FutureWarning: The frame.append method is deprecated and will be removed from pandas in a future version. Use pandas.concat instead.\n",
            "  tab_info = tab_info.append(pd.DataFrame(df.isnull().sum()/df.shape[0]*100).T.\n"
          ]
        },
        {
          "output_type": "execute_result",
          "data": {
            "text/plain": [
              "                 user_id bill_id line_item_amount bill_discount  \\\n",
              "column Type        int64   int64          float64       float64   \n",
              "null values (nb)       0       0                0             0   \n",
              "null values (%)      0.0     0.0              0.0           0.0   \n",
              "\n",
              "                 transaction_date description inventory_category    colour  \\\n",
              "column Type                object      object             object    object   \n",
              "null values (nb)                0          17             697444     15555   \n",
              "null values (%)               0.0    0.000201           8.249496  0.183987   \n",
              "\n",
              "                      size zone_name store_name   year  \n",
              "column Type         object    object     object  int64  \n",
              "null values (nb)     15555         0          0      0  \n",
              "null values (%)   0.183987       0.0        0.0    0.0  "
            ],
            "text/html": [
              "\n",
              "  <div id=\"df-158b881c-a31a-4bcd-9aa6-305da3b61e83\" class=\"colab-df-container\">\n",
              "    <div>\n",
              "<style scoped>\n",
              "    .dataframe tbody tr th:only-of-type {\n",
              "        vertical-align: middle;\n",
              "    }\n",
              "\n",
              "    .dataframe tbody tr th {\n",
              "        vertical-align: top;\n",
              "    }\n",
              "\n",
              "    .dataframe thead th {\n",
              "        text-align: right;\n",
              "    }\n",
              "</style>\n",
              "<table border=\"1\" class=\"dataframe\">\n",
              "  <thead>\n",
              "    <tr style=\"text-align: right;\">\n",
              "      <th></th>\n",
              "      <th>user_id</th>\n",
              "      <th>bill_id</th>\n",
              "      <th>line_item_amount</th>\n",
              "      <th>bill_discount</th>\n",
              "      <th>transaction_date</th>\n",
              "      <th>description</th>\n",
              "      <th>inventory_category</th>\n",
              "      <th>colour</th>\n",
              "      <th>size</th>\n",
              "      <th>zone_name</th>\n",
              "      <th>store_name</th>\n",
              "      <th>year</th>\n",
              "    </tr>\n",
              "  </thead>\n",
              "  <tbody>\n",
              "    <tr>\n",
              "      <th>column Type</th>\n",
              "      <td>int64</td>\n",
              "      <td>int64</td>\n",
              "      <td>float64</td>\n",
              "      <td>float64</td>\n",
              "      <td>object</td>\n",
              "      <td>object</td>\n",
              "      <td>object</td>\n",
              "      <td>object</td>\n",
              "      <td>object</td>\n",
              "      <td>object</td>\n",
              "      <td>object</td>\n",
              "      <td>int64</td>\n",
              "    </tr>\n",
              "    <tr>\n",
              "      <th>null values (nb)</th>\n",
              "      <td>0</td>\n",
              "      <td>0</td>\n",
              "      <td>0</td>\n",
              "      <td>0</td>\n",
              "      <td>0</td>\n",
              "      <td>17</td>\n",
              "      <td>697444</td>\n",
              "      <td>15555</td>\n",
              "      <td>15555</td>\n",
              "      <td>0</td>\n",
              "      <td>0</td>\n",
              "      <td>0</td>\n",
              "    </tr>\n",
              "    <tr>\n",
              "      <th>null values (%)</th>\n",
              "      <td>0.0</td>\n",
              "      <td>0.0</td>\n",
              "      <td>0.0</td>\n",
              "      <td>0.0</td>\n",
              "      <td>0.0</td>\n",
              "      <td>0.000201</td>\n",
              "      <td>8.249496</td>\n",
              "      <td>0.183987</td>\n",
              "      <td>0.183987</td>\n",
              "      <td>0.0</td>\n",
              "      <td>0.0</td>\n",
              "      <td>0.0</td>\n",
              "    </tr>\n",
              "  </tbody>\n",
              "</table>\n",
              "</div>\n",
              "    <div class=\"colab-df-buttons\">\n",
              "\n",
              "  <div class=\"colab-df-container\">\n",
              "    <button class=\"colab-df-convert\" onclick=\"convertToInteractive('df-158b881c-a31a-4bcd-9aa6-305da3b61e83')\"\n",
              "            title=\"Convert this dataframe to an interactive table.\"\n",
              "            style=\"display:none;\">\n",
              "\n",
              "  <svg xmlns=\"http://www.w3.org/2000/svg\" height=\"24px\" viewBox=\"0 -960 960 960\">\n",
              "    <path d=\"M120-120v-720h720v720H120Zm60-500h600v-160H180v160Zm220 220h160v-160H400v160Zm0 220h160v-160H400v160ZM180-400h160v-160H180v160Zm440 0h160v-160H620v160ZM180-180h160v-160H180v160Zm440 0h160v-160H620v160Z\"/>\n",
              "  </svg>\n",
              "    </button>\n",
              "\n",
              "  <style>\n",
              "    .colab-df-container {\n",
              "      display:flex;\n",
              "      gap: 12px;\n",
              "    }\n",
              "\n",
              "    .colab-df-convert {\n",
              "      background-color: #E8F0FE;\n",
              "      border: none;\n",
              "      border-radius: 50%;\n",
              "      cursor: pointer;\n",
              "      display: none;\n",
              "      fill: #1967D2;\n",
              "      height: 32px;\n",
              "      padding: 0 0 0 0;\n",
              "      width: 32px;\n",
              "    }\n",
              "\n",
              "    .colab-df-convert:hover {\n",
              "      background-color: #E2EBFA;\n",
              "      box-shadow: 0px 1px 2px rgba(60, 64, 67, 0.3), 0px 1px 3px 1px rgba(60, 64, 67, 0.15);\n",
              "      fill: #174EA6;\n",
              "    }\n",
              "\n",
              "    .colab-df-buttons div {\n",
              "      margin-bottom: 4px;\n",
              "    }\n",
              "\n",
              "    [theme=dark] .colab-df-convert {\n",
              "      background-color: #3B4455;\n",
              "      fill: #D2E3FC;\n",
              "    }\n",
              "\n",
              "    [theme=dark] .colab-df-convert:hover {\n",
              "      background-color: #434B5C;\n",
              "      box-shadow: 0px 1px 3px 1px rgba(0, 0, 0, 0.15);\n",
              "      filter: drop-shadow(0px 1px 2px rgba(0, 0, 0, 0.3));\n",
              "      fill: #FFFFFF;\n",
              "    }\n",
              "  </style>\n",
              "\n",
              "    <script>\n",
              "      const buttonEl =\n",
              "        document.querySelector('#df-158b881c-a31a-4bcd-9aa6-305da3b61e83 button.colab-df-convert');\n",
              "      buttonEl.style.display =\n",
              "        google.colab.kernel.accessAllowed ? 'block' : 'none';\n",
              "\n",
              "      async function convertToInteractive(key) {\n",
              "        const element = document.querySelector('#df-158b881c-a31a-4bcd-9aa6-305da3b61e83');\n",
              "        const dataTable =\n",
              "          await google.colab.kernel.invokeFunction('convertToInteractive',\n",
              "                                                    [key], {});\n",
              "        if (!dataTable) return;\n",
              "\n",
              "        const docLinkHtml = 'Like what you see? Visit the ' +\n",
              "          '<a target=\"_blank\" href=https://colab.research.google.com/notebooks/data_table.ipynb>data table notebook</a>'\n",
              "          + ' to learn more about interactive tables.';\n",
              "        element.innerHTML = '';\n",
              "        dataTable['output_type'] = 'display_data';\n",
              "        await google.colab.output.renderOutput(dataTable, element);\n",
              "        const docLink = document.createElement('div');\n",
              "        docLink.innerHTML = docLinkHtml;\n",
              "        element.appendChild(docLink);\n",
              "      }\n",
              "    </script>\n",
              "  </div>\n",
              "\n",
              "\n",
              "<div id=\"df-c4741ed5-06d5-40ef-b4ba-13dad2b6dc4e\">\n",
              "  <button class=\"colab-df-quickchart\" onclick=\"quickchart('df-c4741ed5-06d5-40ef-b4ba-13dad2b6dc4e')\"\n",
              "            title=\"Suggest charts.\"\n",
              "            style=\"display:none;\">\n",
              "\n",
              "<svg xmlns=\"http://www.w3.org/2000/svg\" height=\"24px\"viewBox=\"0 0 24 24\"\n",
              "     width=\"24px\">\n",
              "    <g>\n",
              "        <path d=\"M19 3H5c-1.1 0-2 .9-2 2v14c0 1.1.9 2 2 2h14c1.1 0 2-.9 2-2V5c0-1.1-.9-2-2-2zM9 17H7v-7h2v7zm4 0h-2V7h2v10zm4 0h-2v-4h2v4z\"/>\n",
              "    </g>\n",
              "</svg>\n",
              "  </button>\n",
              "\n",
              "<style>\n",
              "  .colab-df-quickchart {\n",
              "      --bg-color: #E8F0FE;\n",
              "      --fill-color: #1967D2;\n",
              "      --hover-bg-color: #E2EBFA;\n",
              "      --hover-fill-color: #174EA6;\n",
              "      --disabled-fill-color: #AAA;\n",
              "      --disabled-bg-color: #DDD;\n",
              "  }\n",
              "\n",
              "  [theme=dark] .colab-df-quickchart {\n",
              "      --bg-color: #3B4455;\n",
              "      --fill-color: #D2E3FC;\n",
              "      --hover-bg-color: #434B5C;\n",
              "      --hover-fill-color: #FFFFFF;\n",
              "      --disabled-bg-color: #3B4455;\n",
              "      --disabled-fill-color: #666;\n",
              "  }\n",
              "\n",
              "  .colab-df-quickchart {\n",
              "    background-color: var(--bg-color);\n",
              "    border: none;\n",
              "    border-radius: 50%;\n",
              "    cursor: pointer;\n",
              "    display: none;\n",
              "    fill: var(--fill-color);\n",
              "    height: 32px;\n",
              "    padding: 0;\n",
              "    width: 32px;\n",
              "  }\n",
              "\n",
              "  .colab-df-quickchart:hover {\n",
              "    background-color: var(--hover-bg-color);\n",
              "    box-shadow: 0 1px 2px rgba(60, 64, 67, 0.3), 0 1px 3px 1px rgba(60, 64, 67, 0.15);\n",
              "    fill: var(--button-hover-fill-color);\n",
              "  }\n",
              "\n",
              "  .colab-df-quickchart-complete:disabled,\n",
              "  .colab-df-quickchart-complete:disabled:hover {\n",
              "    background-color: var(--disabled-bg-color);\n",
              "    fill: var(--disabled-fill-color);\n",
              "    box-shadow: none;\n",
              "  }\n",
              "\n",
              "  .colab-df-spinner {\n",
              "    border: 2px solid var(--fill-color);\n",
              "    border-color: transparent;\n",
              "    border-bottom-color: var(--fill-color);\n",
              "    animation:\n",
              "      spin 1s steps(1) infinite;\n",
              "  }\n",
              "\n",
              "  @keyframes spin {\n",
              "    0% {\n",
              "      border-color: transparent;\n",
              "      border-bottom-color: var(--fill-color);\n",
              "      border-left-color: var(--fill-color);\n",
              "    }\n",
              "    20% {\n",
              "      border-color: transparent;\n",
              "      border-left-color: var(--fill-color);\n",
              "      border-top-color: var(--fill-color);\n",
              "    }\n",
              "    30% {\n",
              "      border-color: transparent;\n",
              "      border-left-color: var(--fill-color);\n",
              "      border-top-color: var(--fill-color);\n",
              "      border-right-color: var(--fill-color);\n",
              "    }\n",
              "    40% {\n",
              "      border-color: transparent;\n",
              "      border-right-color: var(--fill-color);\n",
              "      border-top-color: var(--fill-color);\n",
              "    }\n",
              "    60% {\n",
              "      border-color: transparent;\n",
              "      border-right-color: var(--fill-color);\n",
              "    }\n",
              "    80% {\n",
              "      border-color: transparent;\n",
              "      border-right-color: var(--fill-color);\n",
              "      border-bottom-color: var(--fill-color);\n",
              "    }\n",
              "    90% {\n",
              "      border-color: transparent;\n",
              "      border-bottom-color: var(--fill-color);\n",
              "    }\n",
              "  }\n",
              "</style>\n",
              "\n",
              "  <script>\n",
              "    async function quickchart(key) {\n",
              "      const quickchartButtonEl =\n",
              "        document.querySelector('#' + key + ' button');\n",
              "      quickchartButtonEl.disabled = true;  // To prevent multiple clicks.\n",
              "      quickchartButtonEl.classList.add('colab-df-spinner');\n",
              "      try {\n",
              "        const charts = await google.colab.kernel.invokeFunction(\n",
              "            'suggestCharts', [key], {});\n",
              "      } catch (error) {\n",
              "        console.error('Error during call to suggestCharts:', error);\n",
              "      }\n",
              "      quickchartButtonEl.classList.remove('colab-df-spinner');\n",
              "      quickchartButtonEl.classList.add('colab-df-quickchart-complete');\n",
              "    }\n",
              "    (() => {\n",
              "      let quickchartButtonEl =\n",
              "        document.querySelector('#df-c4741ed5-06d5-40ef-b4ba-13dad2b6dc4e button');\n",
              "      quickchartButtonEl.style.display =\n",
              "        google.colab.kernel.accessAllowed ? 'block' : 'none';\n",
              "    })();\n",
              "  </script>\n",
              "</div>\n",
              "    </div>\n",
              "  </div>\n"
            ]
          },
          "metadata": {},
          "execution_count": 9
        }
      ]
    },
    {
      "cell_type": "code",
      "source": [
        "df.info()"
      ],
      "metadata": {
        "colab": {
          "base_uri": "https://localhost:8080/"
        },
        "id": "IuPw71vJ8ngJ",
        "outputId": "a7343887-fe3a-4525-ce0e-d89f9076dc46"
      },
      "execution_count": 10,
      "outputs": [
        {
          "output_type": "stream",
          "name": "stdout",
          "text": [
            "<class 'pandas.core.frame.DataFrame'>\n",
            "RangeIndex: 8454383 entries, 0 to 8454382\n",
            "Data columns (total 12 columns):\n",
            " #   Column              Dtype  \n",
            "---  ------              -----  \n",
            " 0   user_id             int64  \n",
            " 1   bill_id             int64  \n",
            " 2   line_item_amount    float64\n",
            " 3   bill_discount       float64\n",
            " 4   transaction_date    object \n",
            " 5   description         object \n",
            " 6   inventory_category  object \n",
            " 7   colour              object \n",
            " 8   size                object \n",
            " 9   zone_name           object \n",
            " 10  store_name          object \n",
            " 11  year                int64  \n",
            "dtypes: float64(2), int64(3), object(7)\n",
            "memory usage: 774.0+ MB\n"
          ]
        }
      ]
    },
    {
      "cell_type": "code",
      "source": [
        "\n",
        "df['transaction_date'] = pd.to_datetime(df['transaction_date'])\n",
        "df['year'] = df['transaction_date'].dt.year\n",
        "\n",
        "yearly_sales = df.groupby('year')['line_item_amount'].sum()\n"
      ],
      "metadata": {
        "id": "lJEn54nBDVhf"
      },
      "execution_count": 11,
      "outputs": []
    },
    {
      "cell_type": "code",
      "source": [
        "import matplotlib.pyplot as plt\n",
        "\n",
        "# Plot the line chart\n",
        "plt.figure(figsize=(10, 6))\n",
        "plt.plot(yearly_sales.index, yearly_sales.values, marker='o', linestyle='-', color='b')\n",
        "plt.title('Sales Trends Over the Years')\n",
        "plt.xlabel('Year')\n",
        "plt.ylabel('Total Sales')\n",
        "plt.grid(True)\n",
        "\n",
        "# Show the plot\n",
        "plt.show()\n"
      ],
      "metadata": {
        "colab": {
          "base_uri": "https://localhost:8080/",
          "height": 564
        },
        "id": "s3KTYOyDH4Ck",
        "outputId": "88855d49-b382-49e5-847b-5a49d356671d"
      },
      "execution_count": 12,
      "outputs": [
        {
          "output_type": "display_data",
          "data": {
            "text/plain": [
              "<Figure size 1000x600 with 1 Axes>"
            ],
            "image/png": "[encoded data removed]"
          },
          "metadata": {}
        }
      ]
    },
    {
      "cell_type": "code",
      "source": [
        "data = {'year': [2018, 2019, 2020, 2021, 2022],\n",
        "        'Total Sale': [1.900333e+09, 2.103860e+09, 1.579160e+09, 2.302388e+09, 3.399087e+09]}\n",
        "\n",
        "df1 = pd.DataFrame(data)\n",
        "\n",
        "pd.options.display.float_format = '{:.1f}'.format\n",
        "\n",
        "print(df1)\n"
      ],
      "metadata": {
        "colab": {
          "base_uri": "https://localhost:8080/"
        },
        "id": "LbGfr4wwIYYp",
        "outputId": "c6cc6d46-c326-451f-fd22-d68af62de904"
      },
      "execution_count": 13,
      "outputs": [
        {
          "output_type": "stream",
          "name": "stdout",
          "text": [
            "   year   Total Sale\n",
            "0  2018 1900333000.0\n",
            "1  2019 2103860000.0\n",
            "2  2020 1579160000.0\n",
            "3  2021 2302388000.0\n",
            "4  2022 3399087000.0\n"
          ]
        }
      ]
    },
    {
      "cell_type": "code",
      "source": [
        "\n",
        "# Fill null values in object datatype columns with a specific value, such as \"Unknown\"\n",
        "df.fillna(\"Unknown\", inplace=True)"
      ],
      "metadata": {
        "id": "M2X8mejmQT5w"
      },
      "execution_count": 14,
      "outputs": []
    },
    {
      "cell_type": "code",
      "source": [
        "# Stock Keeping Unit (SKU)\n",
        "inventory_counts = df['inventory_category'].value_counts()\n",
        "\n",
        "# Get the top 50 items\n",
        "top_50_inventory_counts = inventory_counts.head(50)\n",
        "\n",
        "# Convert the result to a DataFrame\n",
        "top_50_inventory_counts_df = pd.DataFrame({'Category': top_50_inventory_counts.index, 'Count': top_50_inventory_counts.values})\n",
        "\n",
        "# Display the DataFrame\n",
        "print(top_50_inventory_counts_df)\n"
      ],
      "metadata": {
        "colab": {
          "base_uri": "https://localhost:8080/"
        },
        "id": "Sppt_UqYXefY",
        "outputId": "78667147-4a8e-4220-9159-b585ad8c362c"
      },
      "execution_count": 15,
      "outputs": [
        {
          "output_type": "stream",
          "name": "stdout",
          "text": [
            "                                       Category   Count\n",
            "0                                       Unknown  697444\n",
            "1                                     CARRY BAG  587802\n",
            "2                                    MENS SHIRT  340249\n",
            "3          CBG ITCBR00001 NA NA White 12x4x16``  279502\n",
            "4   CTrims ITCBM00003 NA NA White ``10x4x14````  278136\n",
            "5                       Mens Shirt - Sportswear  244857\n",
            "6                        Mens Shirt - Jeanswear  154177\n",
            "7                                        SHirts  146767\n",
            "8                                  MENS TROUSER  137003\n",
            "9                     Mens Trouser - Sportswear  106713\n",
            "10                      Mens Trouser - Workwear   73750\n",
            "11                    Mens T-Shirt - Sportswear   70230\n",
            "12               Mens Denim Trouser - Jeanswear   60940\n",
            "13                                 MENS T-SHIRT   59913\n",
            "14                            EB GV 500 SEP2020   50985\n",
            "15        TBG ITPTB00008 NA NA Brown (46x23x26)   43918\n",
            "16          TBG ITPTB00011 NA NA Black 46x25x26   41192\n",
            "17        TBG ITPTB00006 NA NA Brown (45x27x27)   35196\n",
            "18                                  MENS JACKET   32538\n",
            "19           TBG ITPTB00012 NA NA Black 22x7x27   29048\n",
            "20             LBG ITPLB001 NA NA Brown 16x12.5   27268\n",
            "21                            EB GV 500 JAN2022   26288\n",
            "22                                   BOYS SHIRT   25264\n",
            "23                                 MENS SWEATER   24584\n",
            "24                           MENS Denim Trouser   22720\n",
            "25     TBG ITPTB00004 NA NA Brown 18``x9``x10``   22332\n",
            "26                     Mens T-Shirt - Jeanswear   21537\n",
            "27                                   MENS DENIM   21125\n",
            "28                      Mens Socks - Sportswear   20156\n",
            "29        CBG ITCBS00002 NA NA White 8x3x11.5``   17840\n",
            "30                        EARN AND BURN GV 1000   16132\n",
            "31        TBG ITPTB00010 NA NA Black (46x24x24)   15652\n",
            "32         BBG ITPBP00002 NA NA Navy 43x30x12CM   14868\n",
            "33          TBG ITPTB00007 NA NA Grey (22x15x6)   14717\n",
            "34      WOthers ITPMW00001 NA NA White+Tan 45MM   13834\n",
            "35                     Mens Shorts - Sportswear   13199\n",
            "36                      Boys Shirt - Sportswear   13169\n",
            "37                      Mens T-Shirt - Workwear   11890\n",
            "38                                 BOYS TROUSER   10718\n",
            "39                                 BOYS T-SHIRT   10271\n",
            "40                                    MENS BELT   10107\n",
            "41                        Mens Belt - Jeanswear    9785\n",
            "42        TBG ITPTB00003 NA NA Brown 17X10X15``    9694\n",
            "43                                  MENS SHORTS    9498\n",
            "44                         Mens Belt - Workwear    8239\n",
            "45      WOthers ITPMW00003 NA NA Blk+Brown 42MM    7836\n",
            "46                    Boys T-Shirt - Sportswear    7319\n",
            "47                                   MENS SOCKS    7253\n",
            "48          TBG ITPTB00013 NA NA Black 41x21x52    6896\n",
            "49     MWL ITMWL00013 Regular Bifold Black 24CM    6769\n"
          ]
        }
      ]
    },
    {
      "cell_type": "code",
      "source": [
        "# Top 20 Color\n",
        "inventory_counts1 = df['colour'].value_counts()\n",
        "\n",
        "# Get the top 20 items\n",
        "top_20_inventory_counts1 = inventory_counts1.head(20)\n",
        "\n",
        "# Convert the result to a DataFrame\n",
        "top_20_inventory_counts_df1 = pd.DataFrame({'Color': top_20_inventory_counts1.index, 'Count': top_20_inventory_counts1.values})\n",
        "\n",
        "# Display the DataFrame\n",
        "print(top_20_inventory_counts_df1)\n"
      ],
      "metadata": {
        "colab": {
          "base_uri": "https://localhost:8080/"
        },
        "id": "c1SvHdxwdCNe",
        "outputId": "03b42cfa-0541-4967-fc06-05043218ffc3"
      },
      "execution_count": 16,
      "outputs": [
        {
          "output_type": "stream",
          "name": "stdout",
          "text": [
            "           Color    Count\n",
            "0   NOT-CAPTURED  2900346\n",
            "1           Navy  1042873\n",
            "2          Black   376556\n",
            "3          White   306377\n",
            "4          Khaki   231795\n",
            "5          Olive   195831\n",
            "6         Indigo   149375\n",
            "7            Red   134263\n",
            "8     Light Grey   118718\n",
            "9      Dark Grey   115869\n",
            "10           Sky   107808\n",
            "11     Dark Wash   107327\n",
            "12          Blue    95290\n",
            "13          Grey    92822\n",
            "14         Brown    85680\n",
            "15           Tan    82521\n",
            "16      Burgundy    81780\n",
            "17         Choco    69712\n",
            "18       Md Wash    67255\n",
            "19         Stone    61800\n"
          ]
        }
      ]
    },
    {
      "cell_type": "code",
      "source": [
        "# Top 20 size\n",
        "inventory_counts11 = df['size'].value_counts()\n",
        "\n",
        "# Get the top 20 items\n",
        "top_20_inventory_counts11 = inventory_counts11.head(20)\n",
        "\n",
        "# Convert the result to a DataFrame\n",
        "top_20_inventory_counts_df11 = pd.DataFrame({'size': top_20_inventory_counts11.index, 'Count': top_20_inventory_counts11.values})\n",
        "\n",
        "# Display the DataFrame\n",
        "print(top_20_inventory_counts_df11)\n"
      ],
      "metadata": {
        "colab": {
          "base_uri": "https://localhost:8080/"
        },
        "id": "4yhcVyUxeUxV",
        "outputId": "91ee059c-cf6e-455e-bc58-9830df8253de"
      },
      "execution_count": 17,
      "outputs": [
        {
          "output_type": "stream",
          "name": "stdout",
          "text": [
            "            size    Count\n",
            "0   NOT-CAPTURED  2901660\n",
            "1              M   901514\n",
            "2              L   793624\n",
            "3              S   605739\n",
            "4        DEFAULT   587851\n",
            "5             XL   435659\n",
            "6             34   378318\n",
            "7             32   319988\n",
            "8             36   312049\n",
            "9            2XL   252051\n",
            "10            38   181208\n",
            "11            30   146519\n",
            "12            40   138326\n",
            "13          Foot    77656\n",
            "14            EL    71875\n",
            "15            ES    52161\n",
            "16            42    48474\n",
            "17           EEL    44381\n",
            "18           3XL    43881\n",
            "19           EES    42826\n"
          ]
        }
      ]
    },
    {
      "cell_type": "code",
      "source": [
        "# Top zone_name\n",
        "inventory_counts111 = df['zone_name'].value_counts()\n",
        "\n",
        "# Get the top zone_name\n",
        "top_20_inventory_counts111 = inventory_counts111.head(6)\n",
        "\n",
        "# Convert the result to a DataFrame\n",
        "top_20_inventory_counts_df111 = pd.DataFrame({'zone_name': top_20_inventory_counts111.index, 'Count': top_20_inventory_counts111.values})\n",
        "\n",
        "# Display the DataFrame\n",
        "print(top_20_inventory_counts_df111)\n"
      ],
      "metadata": {
        "colab": {
          "base_uri": "https://localhost:8080/"
        },
        "id": "jDcLV8UOlxRk",
        "outputId": "68dbfb5a-2c25-4cbe-8932-88b3d2c6000e"
      },
      "execution_count": 18,
      "outputs": [
        {
          "output_type": "stream",
          "name": "stdout",
          "text": [
            "  zone_name    Count\n",
            "0     South  5597570\n",
            "1     North  1064971\n",
            "2      West   954086\n",
            "3      East   627788\n",
            "4      ROOT   175777\n",
            "5   Central    34191\n"
          ]
        }
      ]
    },
    {
      "cell_type": "code",
      "source": [
        "# Top store_name\n",
        "inventory_counts1111 = df['store_name'].value_counts()\n",
        "\n",
        "# Get the top zone_name\n",
        "top_20_inventory_counts1111 = inventory_counts1111.head(20)\n",
        "\n",
        "# Convert the result to a DataFrame\n",
        "top_20_inventory_counts_df1111 = pd.DataFrame({'store_name': top_20_inventory_counts1111.index, 'Count': top_20_inventory_counts1111.values})\n",
        "\n",
        "# Display the DataFrame\n",
        "print(top_20_inventory_counts_df1111)\n"
      ],
      "metadata": {
        "colab": {
          "base_uri": "https://localhost:8080/"
        },
        "id": "FRgFcNRSl1Wx",
        "outputId": "cd8c169d-0369-4345-a8e3-7418c7b06bc8"
      },
      "execution_count": 19,
      "outputs": [
        {
          "output_type": "stream",
          "name": "stdout",
          "text": [
            "        store_name   Count\n",
            "0       South_7001  211539\n",
            "1   ROOT_ecomstore  172591\n",
            "2       South_7489  146812\n",
            "3       South_7017  144673\n",
            "4       South_7480  132478\n",
            "5       South_7005  126162\n",
            "6       South_7077  119130\n",
            "7       South_7282  114126\n",
            "8       North_7283  113832\n",
            "9       South_7038  112397\n",
            "10      South_7045  105810\n",
            "11      South_7267  104773\n",
            "12      South_7467  101636\n",
            "13      South_7120  100937\n",
            "14      South_7135   98257\n",
            "15      South_7121   93989\n",
            "16      South_7032   93895\n",
            "17      South_7037   92177\n",
            "18      North_7155   90925\n",
            "19       West_7056   87408\n"
          ]
        }
      ]
    },
    {
      "cell_type": "code",
      "source": [
        "# Number of unique customers\n",
        "unique_customers = df['user_id'].nunique()\n",
        "print(f\"Number of unique customers: {unique_customers}\")\n",
        "\n",
        "# Repeat customers (customers who made more than one purchase)\n",
        "customer_purchase_counts = df['user_id'].value_counts()\n",
        "repeat_customers = len(customer_purchase_counts[customer_purchase_counts > 1])\n",
        "print(f\"Number of repeat customers: {repeat_customers}\")\n",
        "\n",
        "\n"
      ],
      "metadata": {
        "id": "eLkLIkpDoEzg",
        "colab": {
          "base_uri": "https://localhost:8080/"
        },
        "outputId": "d3288931-d935-4ae7-8035-dc9bd441f537"
      },
      "execution_count": 20,
      "outputs": [
        {
          "output_type": "stream",
          "name": "stdout",
          "text": [
            "Number of unique customers: 964818\n",
            "Number of repeat customers: 810256\n"
          ]
        }
      ]
    },
    {
      "cell_type": "code",
      "source": [
        "# Customer lifetime value (CLV)\n",
        "\n",
        "average_purchase_value = df['line_item_amount'].mean()\n",
        "average_purchase_frequency = len(df) / unique_customers\n",
        "average_customer_lifetime = 1 / (1 - repeat_customers / unique_customers)\n",
        "clv = average_purchase_value * average_purchase_frequency * average_customer_lifetime\n",
        "print(f\"Average Customer Lifetime Value (CLV): {clv}\")"
      ],
      "metadata": {
        "colab": {
          "base_uri": "https://localhost:8080/"
        },
        "id": "beWIZkOaKPV7",
        "outputId": "e442451f-96c4-4217-bd5f-fa7a17d40cc5"
      },
      "execution_count": 21,
      "outputs": [
        {
          "output_type": "stream",
          "name": "stdout",
          "text": [
            "Average Customer Lifetime Value (CLV): 73011.66670678186\n"
          ]
        }
      ]
    },
    {
      "cell_type": "markdown",
      "source": [
        "What is a Good Customer Lifetime Value?\n",
        "It is a good range if you are able to achieve a CLV that falls between 3-5 times your cost of customer acquisition. So, for example, if you are spending an average of 150 in acquiring a new customer, you should aim for a CLV of at least 450!"
      ],
      "metadata": {
        "id": "NzNlZ7bfQRQY"
      }
    },
    {
      "cell_type": "code",
      "source": [
        "average_purchase_frequency"
      ],
      "metadata": {
        "colab": {
          "base_uri": "https://localhost:8080/"
        },
        "id": "YB78BEowQicY",
        "outputId": "40b9f28a-6805-4f40-b577-599f44aff411"
      },
      "execution_count": 22,
      "outputs": [
        {
          "output_type": "execute_result",
          "data": {
            "text/plain": [
              "8.762671301737736"
            ]
          },
          "metadata": {},
          "execution_count": 22
        }
      ]
    },
    {
      "cell_type": "code",
      "source": [],
      "metadata": {
        "id": "UwFzdulzUyHr"
      },
      "execution_count": 22,
      "outputs": []
    },
    {
      "cell_type": "code",
      "source": [
        "# Top bill_discount\n",
        "inventory_counts11111 = df['bill_discount'].value_counts()\n",
        "\n",
        "# Get the top bill_discount\n",
        "top_20_inventory_counts11111 = inventory_counts11111.head(20)\n",
        "\n",
        "# Convert the result to a DataFrame\n",
        "top_20_inventory_counts_df11111 = pd.DataFrame({'bill_discount': top_20_inventory_counts11111.index, 'Count': top_20_inventory_counts11111.values})\n",
        "\n",
        "# Display the DataFrame\n",
        "print(top_20_inventory_counts_df11111)\n"
      ],
      "metadata": {
        "colab": {
          "base_uri": "https://localhost:8080/"
        },
        "id": "rN51LgCNYchx",
        "outputId": "e60df5b5-bd73-49b7-faa9-5b3a201ad73c"
      },
      "execution_count": 23,
      "outputs": [
        {
          "output_type": "stream",
          "name": "stdout",
          "text": [
            "    bill_discount    Count\n",
            "0             0.0  7987894\n",
            "1           500.0    71463\n",
            "2          1000.0    66375\n",
            "3          2000.0    18664\n",
            "4          1500.0    16265\n",
            "5          3000.0    10630\n",
            "6           700.0     8050\n",
            "7           600.0     7887\n",
            "8           800.0     6611\n",
            "9          4000.0     5080\n",
            "10         2500.0     4748\n",
            "11         1200.0     4589\n",
            "12          400.0     4545\n",
            "13          900.0     4128\n",
            "14         1400.0     3840\n",
            "15          300.0     3822\n",
            "16         1300.0     3476\n",
            "17         6000.0     3236\n",
            "18         1800.0     3112\n",
            "19         1100.0     3085\n"
          ]
        }
      ]
    },
    {
      "cell_type": "code",
      "source": [
        "\n",
        "# The average discount amount\n",
        "average_discount_amount = df['bill_discount'].mean()\n",
        "print(f\"Average Discount Amount: Rs. {average_discount_amount:.2f}\")\n"
      ],
      "metadata": {
        "colab": {
          "base_uri": "https://localhost:8080/"
        },
        "id": "YEym5aj_Y7BL",
        "outputId": "981e3d35-ff01-48fa-b176-7861964ce193"
      },
      "execution_count": 24,
      "outputs": [
        {
          "output_type": "stream",
          "name": "stdout",
          "text": [
            "Average Discount Amount: Rs. 92.85\n"
          ]
        }
      ]
    },
    {
      "cell_type": "code",
      "source": [
        "# Group data by 'zone_name' and calculate total sales for each zone\n",
        "zone_sales = df.groupby('zone_name')['line_item_amount'].sum()\n",
        "\n",
        "# Plot a bar chart for sales by zone\n",
        "plt.figure(figsize=(12, 6))\n",
        "zone_sales.plot(kind='bar', color='lightblue')\n",
        "plt.title('Sales Trends by Zone')\n",
        "plt.xlabel('Zone Name')\n",
        "plt.ylabel('Total Sales')\n",
        "plt.xticks(rotation=45)\n",
        "plt.grid(axis='y')\n",
        "plt.show()\n",
        "\n"
      ],
      "metadata": {
        "colab": {
          "base_uri": "https://localhost:8080/",
          "height": 596
        },
        "id": "dbz1SbANebAL",
        "outputId": "c4c17dc9-2338-46d0-8e20-78b8f7a5146c"
      },
      "execution_count": 25,
      "outputs": [
        {
          "output_type": "display_data",
          "data": {
            "text/plain": [
              "<Figure size 1200x600 with 1 Axes>"
            ],
            "image/png": "[encoded data removed]"
          },
          "metadata": {}
        }
      ]
    },
    {
      "cell_type": "code",
      "source": [
        "# Group data by 'store_name' and calculate total sales for each store\n",
        "store_sales = df.groupby('store_name')['line_item_amount'].sum()\n",
        "\n",
        "# Plot a bar chart for sales by store\n",
        "plt.figure(figsize=(12, 6))\n",
        "store_sales.plot(kind='bar', color='lightcoral')\n",
        "plt.title('Sales Trends by Store')\n",
        "plt.xlabel('Store Name')\n",
        "plt.ylabel('Total Sales')\n",
        "plt.xticks(rotation=45)\n",
        "plt.grid(axis='y')\n",
        "plt.show()\n"
      ],
      "metadata": {
        "colab": {
          "base_uri": "https://localhost:8080/",
          "height": 645
        },
        "id": "gTBgmTVSe1fF",
        "outputId": "94f1d754-c5ad-42b5-bc64-9160dbdfa0fb"
      },
      "execution_count": 28,
      "outputs": [
        {
          "output_type": "display_data",
          "data": {
            "text/plain": [
              "<Figure size 1200x600 with 1 Axes>"
            ],
            "image/png": "[encoded data removed]"
          },
          "metadata": {}
        }
      ]
    },
    {
      "cell_type": "code",
      "source": [
        "# Group data by 'store_name' and calculate total sales for each store\n",
        "store_sales = df.groupby('store_name')['line_item_amount'].sum()\n",
        "\n",
        "# Sort the stores by total sales in descending order and select the top 20\n",
        "top_20_stores = store_sales.sort_values(ascending=False).head(20)\n",
        "\n",
        "# Plot a bar chart for sales by the top 20 stores\n",
        "plt.figure(figsize=(12, 6))\n",
        "top_20_stores.plot(kind='bar', color='lightcoral')\n",
        "plt.title('Top 20 Stores by Sales')\n",
        "plt.xlabel('Store Name')\n",
        "plt.ylabel('Total Sales')\n",
        "plt.xticks(rotation=45)\n",
        "plt.grid(axis='y')\n",
        "plt.show()\n"
      ],
      "metadata": {
        "colab": {
          "base_uri": "https://localhost:8080/",
          "height": 645
        },
        "id": "8zFya98PfgWZ",
        "outputId": "13d7af57-a896-488a-d20b-dbee65e65b1b"
      },
      "execution_count": 29,
      "outputs": [
        {
          "output_type": "display_data",
          "data": {
            "text/plain": [
              "<Figure size 1200x600 with 1 Axes>"
            ],
            "image/png": "[encoded data removed]"
          },
          "metadata": {}
        }
      ]
    }
  ]
}